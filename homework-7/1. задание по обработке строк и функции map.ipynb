{
 "cells": [
  {
   "cell_type": "markdown",
   "id": "eb0a3073",
   "metadata": {},
   "source": [
    "## Задача 1. Четные индексы"
   ]
  },
  {
   "cell_type": "code",
   "execution_count": 1,
   "id": "a53f00c7",
   "metadata": {},
   "outputs": [
    {
     "name": "stdout",
     "output_type": "stream",
     "text": [
      "1 2 3 4 5\n",
      "1 3 5\n"
     ]
    }
   ],
   "source": [
    "print(' '.join(list(input().split())[::2]))"
   ]
  },
  {
   "cell_type": "markdown",
   "id": "6b542680",
   "metadata": {},
   "source": [
    "## Задача 2. Наибольший элемент и его индекс"
   ]
  },
  {
   "cell_type": "code",
   "execution_count": 2,
   "id": "63d1c092",
   "metadata": {},
   "outputs": [
    {
     "name": "stdout",
     "output_type": "stream",
     "text": [
      "1 2 3 2 1\n",
      "3 2\n"
     ]
    }
   ],
   "source": [
    "inp_list = list(enumerate(input().split()))\n",
    "print(' '.join(map(str, max(inp_list, key = lambda x : x[1])))[::-1])"
   ]
  },
  {
   "cell_type": "markdown",
   "id": "6bdf4693",
   "metadata": {},
   "source": [
    "## Задача 3. Вывести в обратном порядке "
   ]
  },
  {
   "cell_type": "code",
   "execution_count": 3,
   "id": "a3bf7caa",
   "metadata": {},
   "outputs": [
    {
     "name": "stdout",
     "output_type": "stream",
     "text": [
      "1 2 3 4 5\n",
      "5 4 3 2 1\n"
     ]
    }
   ],
   "source": [
    "print(input()[::-1])"
   ]
  },
  {
   "cell_type": "markdown",
   "id": "a2882591",
   "metadata": {},
   "source": [
    "## Задача 4. Переставить соседние"
   ]
  },
  {
   "cell_type": "code",
   "execution_count": 4,
   "id": "adc2bc54",
   "metadata": {},
   "outputs": [
    {
     "name": "stdout",
     "output_type": "stream",
     "text": [
      "1 2 3 4 5\n",
      "2 1 4 3 5\n"
     ]
    }
   ],
   "source": [
    "lst = list(input().split())\n",
    "lst[:-1:2], lst[1::2] = lst[1::2], lst[:-1:2]\n",
    "print(' '.join(lst))"
   ]
  },
  {
   "cell_type": "markdown",
   "id": "1c704907",
   "metadata": {},
   "source": [
    "## Задача 5. Циклический сдвиг вправо"
   ]
  },
  {
   "cell_type": "code",
   "execution_count": 5,
   "id": "d13b5d4e",
   "metadata": {},
   "outputs": [
    {
     "name": "stdout",
     "output_type": "stream",
     "text": [
      "1 2 3 4 5\n",
      "5 1 2 3 4\n"
     ]
    }
   ],
   "source": [
    "lst = list(input().split())\n",
    "print(' '.join([lst[-1]] + lst[:-1]))"
   ]
  },
  {
   "cell_type": "markdown",
   "id": "dfdb0bb0",
   "metadata": {},
   "source": [
    "## Задача 6. Удалить элемент"
   ]
  },
  {
   "cell_type": "code",
   "execution_count": 6,
   "id": "02e7d34b",
   "metadata": {},
   "outputs": [
    {
     "name": "stdout",
     "output_type": "stream",
     "text": [
      "7 6 5 4 3 2 1\n",
      "2\n",
      "7 6 4 3 2 1\n"
     ]
    }
   ],
   "source": [
    "lst = list(input().split())\n",
    "lst.pop(int(input()))\n",
    "print(' '.join(lst))"
   ]
  },
  {
   "cell_type": "markdown",
   "id": "51acca2f",
   "metadata": {},
   "source": [
    "## Задача 7. Вставить элемент"
   ]
  },
  {
   "cell_type": "code",
   "execution_count": 7,
   "id": "09cac293",
   "metadata": {},
   "outputs": [
    {
     "name": "stdout",
     "output_type": "stream",
     "text": [
      "7 6 5 4 3 2 1\n",
      "2 0\n",
      "7 6 0 5 4 3 2 1\n"
     ]
    }
   ],
   "source": [
    "lst = list((input().split()))\n",
    "n, elem = map(int, input().split())\n",
    "print(' '.join(map(str, lst[:n] + list([elem]) + lst[n:])))"
   ]
  },
  {
   "cell_type": "markdown",
   "id": "bd3229d8",
   "metadata": {},
   "source": [
    "## Задача 8. Большой сдвиг"
   ]
  },
  {
   "cell_type": "code",
   "execution_count": 8,
   "id": "2ddc052a",
   "metadata": {},
   "outputs": [
    {
     "name": "stdout",
     "output_type": "stream",
     "text": [
      "5 3 7 4 6\n",
      "3\n",
      "7 4 6 5 3\n"
     ]
    }
   ],
   "source": [
    "lst = list(input().split())\n",
    "print(' '.join(map(str, map(lambda i : ' '.join(lst[-int(i):]) + ' ' + ' '.join(lst[:-int(i)]), input()))))"
   ]
  }
 ],
 "metadata": {
  "kernelspec": {
   "display_name": "Python 3 (ipykernel)",
   "language": "python",
   "name": "python3"
  },
  "language_info": {
   "codemirror_mode": {
    "name": "ipython",
    "version": 3
   },
   "file_extension": ".py",
   "mimetype": "text/x-python",
   "name": "python",
   "nbconvert_exporter": "python",
   "pygments_lexer": "ipython3",
   "version": "3.9.7"
  }
 },
 "nbformat": 4,
 "nbformat_minor": 5
}
