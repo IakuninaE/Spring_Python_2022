{
 "cells": [
  {
   "cell_type": "markdown",
   "id": "7ff9c1f9",
   "metadata": {},
   "source": [
    "# Домашнее задание 5: LU- и LUP-разложение\n",
    "# Якунина Е. Н., НПМбд-01-19"
   ]
  },
  {
   "cell_type": "markdown",
   "id": "9b516815",
   "metadata": {},
   "source": [
    "Импортируем необходимые библиотеки"
   ]
  },
  {
   "cell_type": "code",
   "execution_count": 1,
   "id": "ac9eb4f2",
   "metadata": {},
   "outputs": [],
   "source": [
    "import numpy as np\n",
    "from scipy.linalg import lu_factor, lu_solve"
   ]
  },
  {
   "cell_type": "markdown",
   "id": "facc3870",
   "metadata": {},
   "source": [
    "Рассмотрим решение СЛАУ методом LU-разложения"
   ]
  },
  {
   "cell_type": "markdown",
   "id": "e3c5dc90",
   "metadata": {},
   "source": [
    "Напишем функцию, которая раскладывает поданную ей квадратную матрицу на нижнетреугольную матрицу L и верхнетреугольную матрицу U"
   ]
  },
  {
   "cell_type": "code",
   "execution_count": 2,
   "id": "841dedd9",
   "metadata": {},
   "outputs": [],
   "source": [
    "def LU(A):\n",
    "    U = np.copy(A)\n",
    "    L = np.identity(len(A))\n",
    "    for i in range(len(A) - 1):\n",
    "        k = U[i + 1:, i] / U[i, i]\n",
    "        L[i + 1:, i] += k\n",
    "        k.resize(k.size, 1)\n",
    "        U[i + 1:, :] -= k * U[i]\n",
    "    return L, U"
   ]
  },
  {
   "cell_type": "markdown",
   "id": "8343f3e4",
   "metadata": {},
   "source": [
    "Проверим функцию для квадратной матрицы 3 x 3"
   ]
  },
  {
   "cell_type": "code",
   "execution_count": 3,
   "id": "8b3da361",
   "metadata": {},
   "outputs": [],
   "source": [
    "A = np.array([[2, 7, 11.], \n",
    "              [0, -2, 1.], \n",
    "              [2, 5, 3.]])"
   ]
  },
  {
   "cell_type": "code",
   "execution_count": 4,
   "id": "4aad4711",
   "metadata": {},
   "outputs": [
    {
     "name": "stdout",
     "output_type": "stream",
     "text": [
      "L = [[1. 0. 0.]\n",
      " [0. 1. 0.]\n",
      " [1. 1. 1.]]\n",
      "U = [[ 2.  7. 11.]\n",
      " [ 0. -2.  1.]\n",
      " [ 0.  0. -9.]]\n"
     ]
    }
   ],
   "source": [
    "L, U = LU(A)\n",
    "print(\"L = {}\".format(L), \"U = {}\".format(U), sep = '\\n')"
   ]
  },
  {
   "cell_type": "code",
   "execution_count": 5,
   "id": "60bc8a22",
   "metadata": {},
   "outputs": [
    {
     "data": {
      "text/plain": [
       "array([[ True,  True,  True],\n",
       "       [ True,  True,  True],\n",
       "       [ True,  True,  True]])"
      ]
     },
     "execution_count": 5,
     "metadata": {},
     "output_type": "execute_result"
    }
   ],
   "source": [
    "A == L @ U"
   ]
  },
  {
   "cell_type": "markdown",
   "id": "1692142d",
   "metadata": {},
   "source": [
    "Перед написанием функции для решения СЛАУ Ax=b напишем вспомогательные функции для решения уравнений Ly=b и Ux=y"
   ]
  },
  {
   "cell_type": "code",
   "execution_count": 6,
   "id": "ef950f28",
   "metadata": {},
   "outputs": [],
   "source": [
    "def Ly_b(L, b):\n",
    "    n = len(L)\n",
    "    y = np.zeros(n)\n",
    "    y[0] = b[0] / L[0, 0]\n",
    "    for i in range(1, n):\n",
    "        y[i] = ( b[i] - L[i, :i] @ b[:i]) / L[i, i]\n",
    "    y.resize(n, 1)\n",
    "    return y"
   ]
  },
  {
   "cell_type": "code",
   "execution_count": 7,
   "id": "9eb860b3",
   "metadata": {},
   "outputs": [],
   "source": [
    "def Ux_y(U, y):\n",
    "    n = len(U)\n",
    "    x = np.zeros(n)\n",
    "    x[n - 1] = y[n - 1] / U[n - 1, n - 1] \n",
    "    for i in range(n - 2, -1, -1):\n",
    "        x[i] = ( y[i] - U[i, i + 1:] @ x[i + 1:]) / U[i, i]\n",
    "    x.resize(n, 1)\n",
    "    return x"
   ]
  },
  {
   "cell_type": "markdown",
   "id": "561dbf65",
   "metadata": {},
   "source": [
    "Теперь напишем саму функцию, которая, принимая на вход матрицу и вектор-столбец, с помощью LU-разложения находит решение СЛАУ. "
   ]
  },
  {
   "cell_type": "code",
   "execution_count": 8,
   "id": "23f31141",
   "metadata": {},
   "outputs": [],
   "source": [
    "def solver_LU(A, b):\n",
    "    L, U = LU(A)\n",
    "    y = Ly_b(L, b)\n",
    "    x = Ux_y(U, y)\n",
    "    return x"
   ]
  },
  {
   "cell_type": "code",
   "execution_count": 9,
   "id": "79b2f5f4",
   "metadata": {},
   "outputs": [],
   "source": [
    "a = np.array([[4], \n",
    "              [10], \n",
    "              [5]])"
   ]
  },
  {
   "cell_type": "code",
   "execution_count": 10,
   "id": "db0e6d25",
   "metadata": {},
   "outputs": [
    {
     "data": {
      "text/plain": [
       "array([[12.25],\n",
       "       [-4.5 ],\n",
       "       [ 1.  ]])"
      ]
     },
     "execution_count": 10,
     "metadata": {},
     "output_type": "execute_result"
    }
   ],
   "source": [
    "solver_LU(A, a)"
   ]
  },
  {
   "cell_type": "markdown",
   "id": "91c007d8",
   "metadata": {},
   "source": [
    "Проверим, получим ли мы такой же ответ, используя функции lu_factor и lu_solve библиотеки scipy.linalg"
   ]
  },
  {
   "cell_type": "code",
   "execution_count": 11,
   "id": "55e7ce40",
   "metadata": {},
   "outputs": [
    {
     "data": {
      "text/plain": [
       "array([[12.25],\n",
       "       [-4.5 ],\n",
       "       [ 1.  ]])"
      ]
     },
     "execution_count": 11,
     "metadata": {},
     "output_type": "execute_result"
    }
   ],
   "source": [
    "lu_solve(lu_factor(A), a)"
   ]
  },
  {
   "cell_type": "markdown",
   "id": "6bb4cdb3",
   "metadata": {},
   "source": [
    "Однако, если поменять в матрице A первую (A[0]) и вторую (A[1]) строки, то разложить такую матрицу на L и U, в которых бы находились конкретные числа, уже не получится"
   ]
  },
  {
   "cell_type": "code",
   "execution_count": 12,
   "id": "e97c36e7",
   "metadata": {},
   "outputs": [],
   "source": [
    "def change_str(A, i, j):\n",
    "    n = np.array(A[j])\n",
    "    A[j] = A[i]\n",
    "    A[i] = n\n",
    "    return A"
   ]
  },
  {
   "cell_type": "code",
   "execution_count": 13,
   "id": "fb6edf37",
   "metadata": {},
   "outputs": [
    {
     "name": "stderr",
     "output_type": "stream",
     "text": [
      "C:\\Users\\katya\\AppData\\Local\\Temp/ipykernel_9632/1737286041.py:5: RuntimeWarning: divide by zero encountered in true_divide\n",
      "  k = U[i + 1:, i] / U[i, i]\n",
      "C:\\Users\\katya\\AppData\\Local\\Temp/ipykernel_9632/1737286041.py:8: RuntimeWarning: invalid value encountered in multiply\n",
      "  U[i + 1:, :] -= k * U[i]\n",
      "C:\\Users\\katya\\AppData\\Local\\Temp/ipykernel_9632/1737286041.py:5: RuntimeWarning: invalid value encountered in true_divide\n",
      "  k = U[i + 1:, i] / U[i, i]\n"
     ]
    },
    {
     "data": {
      "text/plain": [
       "(array([[ 1.,  0.,  0.],\n",
       "        [inf,  1.,  0.],\n",
       "        [inf, nan,  1.]]),\n",
       " array([[  0.,  -2.,   1.],\n",
       "        [ nan,  inf, -inf],\n",
       "        [ nan,  nan,  nan]]))"
      ]
     },
     "execution_count": 13,
     "metadata": {},
     "output_type": "execute_result"
    }
   ],
   "source": [
    "LU(change_str(A, 0, 1))"
   ]
  },
  {
   "cell_type": "code",
   "execution_count": 14,
   "id": "a647d9df",
   "metadata": {},
   "outputs": [
    {
     "data": {
      "text/plain": [
       "array([[ 0., -2.,  1.],\n",
       "       [ 2.,  7., 11.],\n",
       "       [ 2.,  5.,  3.]])"
      ]
     },
     "execution_count": 14,
     "metadata": {},
     "output_type": "execute_result"
    }
   ],
   "source": [
    "A"
   ]
  },
  {
   "cell_type": "markdown",
   "id": "14bd2352",
   "metadata": {},
   "source": [
    "Чтобы получить матрицы L и U, исходная матрица приводится к ступенчатому виду. В LU-разложении при этом не предусматривается возможность проводить какие-либо изменения над исходной матрицей. Соответственно, если в процессе преобразования матрицы к ступенчатому виду ведущий элемент на главной диагонали матрицы оказывается равным нулю, мы не можем избежать деления на нуль. Таким образом, LU-разложение не подойдет для решения систем, в которых приведение к ступенчатому виду матрицы коэффициентов предполагает перестановку строк."
   ]
  },
  {
   "cell_type": "markdown",
   "id": "c91de872",
   "metadata": {},
   "source": [
    "Для таких матриц подходит метод LUP-разложения"
   ]
  },
  {
   "cell_type": "markdown",
   "id": "dce60ebb",
   "metadata": {},
   "source": [
    "Напишем функцию, которая раскладывает поданную ей квадратную матрицу на нижнетреугольную матрицу L, верхнетреугольную матрицу U и матрицу перестановок P"
   ]
  },
  {
   "cell_type": "code",
   "execution_count": 15,
   "id": "f714f6c4",
   "metadata": {},
   "outputs": [],
   "source": [
    "def change_stl(A, i, j):\n",
    "    A = np.transpose(A)\n",
    "    A = change_str(A, i, j)\n",
    "    return np.transpose(A)"
   ]
  },
  {
   "cell_type": "code",
   "execution_count": 16,
   "id": "f755dd65",
   "metadata": {},
   "outputs": [],
   "source": [
    "def LUP(A):\n",
    "    U = np.copy(A)\n",
    "    L = np.identity(len(A))\n",
    "    P = np.identity(len(A))\n",
    "    for i in range(len(A) - 1):\n",
    "        j = i + 1\n",
    "        while U[i][i] == 0:\n",
    "            change_str(U, i, j)\n",
    "            change_str(P, i, j)\n",
    "            change_str(L, i, j)\n",
    "            change_stl(L, i, j)\n",
    "            j += 1\n",
    "        k = U[i + 1:, i] / U[i, i]\n",
    "        L[i + 1:, i] += k\n",
    "        k.resize(k.size, 1)\n",
    "        U[i + 1:, :] -= k * U[i]\n",
    "    return P, L, U"
   ]
  },
  {
   "cell_type": "code",
   "execution_count": 17,
   "id": "28bc87ba",
   "metadata": {},
   "outputs": [
    {
     "name": "stdout",
     "output_type": "stream",
     "text": [
      "P = [[0. 1. 0.]\n",
      " [1. 0. 0.]\n",
      " [0. 0. 1.]]\n",
      "L = [[1. 0. 0.]\n",
      " [0. 1. 0.]\n",
      " [1. 1. 1.]]\n",
      "U = [[ 2.  7. 11.]\n",
      " [ 0. -2.  1.]\n",
      " [ 0.  0. -9.]]\n"
     ]
    }
   ],
   "source": [
    "P, L, U = LUP(A)\n",
    "print(\"P = {}\".format(P), \"L = {}\".format(L), \"U = {}\".format(U), sep = '\\n')"
   ]
  },
  {
   "cell_type": "code",
   "execution_count": 18,
   "id": "e1340abe",
   "metadata": {},
   "outputs": [
    {
     "data": {
      "text/plain": [
       "array([[ True,  True,  True],\n",
       "       [ True,  True,  True],\n",
       "       [ True,  True,  True]])"
      ]
     },
     "execution_count": 18,
     "metadata": {},
     "output_type": "execute_result"
    }
   ],
   "source": [
    "P @ A == L @ U"
   ]
  },
  {
   "cell_type": "markdown",
   "id": "c4a74ac2",
   "metadata": {},
   "source": [
    "Напишем функцию, которая, принимая на вход матрицу и вектор-столбец, с помощью LUP-разложения находит решение СЛАУ."
   ]
  },
  {
   "cell_type": "code",
   "execution_count": 19,
   "id": "9aca4dd3",
   "metadata": {},
   "outputs": [],
   "source": [
    "def solver_LUP(A, b):\n",
    "    P, L, U = LUP(A)\n",
    "    b = P @ b\n",
    "    y = Ly_b(L, b)\n",
    "    x = Ux_y(U, y)\n",
    "    return x"
   ]
  },
  {
   "cell_type": "markdown",
   "id": "e38e0fe5",
   "metadata": {},
   "source": [
    "Поменяем соответственно строки вектор-столбца a и проверим, получим ли мы тот же ответ"
   ]
  },
  {
   "cell_type": "code",
   "execution_count": 20,
   "id": "2e252692",
   "metadata": {},
   "outputs": [
    {
     "data": {
      "text/plain": [
       "array([[10],\n",
       "       [ 4],\n",
       "       [ 5]])"
      ]
     },
     "execution_count": 20,
     "metadata": {},
     "output_type": "execute_result"
    }
   ],
   "source": [
    "change_str(a, 0, 1)"
   ]
  },
  {
   "cell_type": "code",
   "execution_count": 21,
   "id": "5baea15b",
   "metadata": {},
   "outputs": [
    {
     "data": {
      "text/plain": [
       "array([[10],\n",
       "       [ 4],\n",
       "       [ 5]])"
      ]
     },
     "execution_count": 21,
     "metadata": {},
     "output_type": "execute_result"
    }
   ],
   "source": [
    "a"
   ]
  },
  {
   "cell_type": "code",
   "execution_count": 22,
   "id": "a9be71ed",
   "metadata": {},
   "outputs": [
    {
     "data": {
      "text/plain": [
       "array([[12.25],\n",
       "       [-4.5 ],\n",
       "       [ 1.  ]])"
      ]
     },
     "execution_count": 22,
     "metadata": {},
     "output_type": "execute_result"
    }
   ],
   "source": [
    "solver_LUP(A, a)"
   ]
  },
  {
   "cell_type": "markdown",
   "id": "884bfb67",
   "metadata": {},
   "source": [
    "Проверим, получим ли мы такой же ответ, используя функции lu_factor и lu_solve библиотеки scipy.linalg"
   ]
  },
  {
   "cell_type": "code",
   "execution_count": 23,
   "id": "1a970a45",
   "metadata": {},
   "outputs": [
    {
     "data": {
      "text/plain": [
       "array([[12.25],\n",
       "       [-4.5 ],\n",
       "       [ 1.  ]])"
      ]
     },
     "execution_count": 23,
     "metadata": {},
     "output_type": "execute_result"
    }
   ],
   "source": [
    "lu_solve(lu_factor(A), a)"
   ]
  },
  {
   "cell_type": "markdown",
   "id": "a0be0dbb",
   "metadata": {},
   "source": [
    "Можно также проверить, например, матрицу"
   ]
  },
  {
   "cell_type": "code",
   "execution_count": 24,
   "id": "0b4bae1d",
   "metadata": {},
   "outputs": [],
   "source": [
    "B = np.array([[1, 2, 3], \n",
    "              [2, 4, 5.], \n",
    "              [6, 11, -1]])"
   ]
  },
  {
   "cell_type": "code",
   "execution_count": 25,
   "id": "323ef866",
   "metadata": {},
   "outputs": [
    {
     "name": "stderr",
     "output_type": "stream",
     "text": [
      "C:\\Users\\katya\\AppData\\Local\\Temp/ipykernel_9632/1737286041.py:5: RuntimeWarning: divide by zero encountered in true_divide\n",
      "  k = U[i + 1:, i] / U[i, i]\n",
      "C:\\Users\\katya\\AppData\\Local\\Temp/ipykernel_9632/1737286041.py:8: RuntimeWarning: invalid value encountered in multiply\n",
      "  U[i + 1:, :] -= k * U[i]\n"
     ]
    },
    {
     "data": {
      "text/plain": [
       "(array([[  1.,   0.,   0.],\n",
       "        [  2.,   1.,   0.],\n",
       "        [  6., -inf,   1.]]),\n",
       " array([[  1.,   2.,   3.],\n",
       "        [  0.,   0.,  -1.],\n",
       "        [ nan,  nan, -inf]]))"
      ]
     },
     "execution_count": 25,
     "metadata": {},
     "output_type": "execute_result"
    }
   ],
   "source": [
    "LU(B)"
   ]
  },
  {
   "cell_type": "markdown",
   "id": "65e21caf",
   "metadata": {},
   "source": [
    "При приведении матрицы B к ступенчатому виду ведущий элемент во второй строчке главной диагонали обращается в нуль, соответственно, разложение LU будет неэффективно"
   ]
  },
  {
   "cell_type": "code",
   "execution_count": 26,
   "id": "77ba3eb4",
   "metadata": {},
   "outputs": [
    {
     "data": {
      "text/plain": [
       "(array([[1., 0., 0.],\n",
       "        [0., 0., 1.],\n",
       "        [0., 1., 0.]]),\n",
       " array([[1., 0., 0.],\n",
       "        [6., 1., 0.],\n",
       "        [2., 0., 1.]]),\n",
       " array([[  1.,   2.,   3.],\n",
       "        [  0.,  -1., -19.],\n",
       "        [  0.,   0.,  -1.]]))"
      ]
     },
     "execution_count": 26,
     "metadata": {},
     "output_type": "execute_result"
    }
   ],
   "source": [
    "LUP(B)"
   ]
  },
  {
   "cell_type": "code",
   "execution_count": 27,
   "id": "ca49933a",
   "metadata": {},
   "outputs": [
    {
     "name": "stdout",
     "output_type": "stream",
     "text": [
      "P = [[1. 0. 0.]\n",
      " [0. 0. 1.]\n",
      " [0. 1. 0.]]\n",
      "L = [[1. 0. 0.]\n",
      " [6. 1. 0.]\n",
      " [2. 0. 1.]]\n",
      "U = [[  1.   2.   3.]\n",
      " [  0.  -1. -19.]\n",
      " [  0.   0.  -1.]]\n"
     ]
    }
   ],
   "source": [
    "P, L, U = LUP(B)\n",
    "print(\"P = {}\".format(P), \"L = {}\".format(L), \"U = {}\".format(U), sep = '\\n')"
   ]
  },
  {
   "cell_type": "code",
   "execution_count": 28,
   "id": "f86bde14",
   "metadata": {},
   "outputs": [
    {
     "data": {
      "text/plain": [
       "array([[ True,  True,  True],\n",
       "       [ True,  True,  True],\n",
       "       [ True,  True,  True]])"
      ]
     },
     "execution_count": 28,
     "metadata": {},
     "output_type": "execute_result"
    }
   ],
   "source": [
    "P @ B == L @ U"
   ]
  },
  {
   "cell_type": "markdown",
   "id": "30ce0ccb",
   "metadata": {},
   "source": [
    "Уже с помощью LUP-разложения удалось представить матрицу через нижнетреугольную и верхнетреугольную"
   ]
  },
  {
   "cell_type": "markdown",
   "id": "7fe1621c",
   "metadata": {},
   "source": [
    "Зададим теперь также вектор-столбец и решим СЛАУ"
   ]
  },
  {
   "cell_type": "code",
   "execution_count": 29,
   "id": "f053f482",
   "metadata": {},
   "outputs": [],
   "source": [
    "b = np.array([[2], \n",
    "              [5.], \n",
    "              [-1]])"
   ]
  },
  {
   "cell_type": "code",
   "execution_count": 30,
   "id": "12a42755",
   "metadata": {},
   "outputs": [
    {
     "data": {
      "text/plain": [
       "array([[-59.],\n",
       "       [ 32.],\n",
       "       [ -1.]])"
      ]
     },
     "execution_count": 30,
     "metadata": {},
     "output_type": "execute_result"
    }
   ],
   "source": [
    "solver_LUP(B, b)"
   ]
  },
  {
   "cell_type": "markdown",
   "id": "62f74858",
   "metadata": {},
   "source": [
    "Проверим, получим ли мы такой же ответ, используя функции lu_factor и lu_solve библиотеки scipy.linalg"
   ]
  },
  {
   "cell_type": "code",
   "execution_count": 31,
   "id": "eb50917e",
   "metadata": {},
   "outputs": [
    {
     "data": {
      "text/plain": [
       "array([[-59.],\n",
       "       [ 32.],\n",
       "       [ -1.]])"
      ]
     },
     "execution_count": 31,
     "metadata": {},
     "output_type": "execute_result"
    }
   ],
   "source": [
    "lu_solve(lu_factor(B), b)"
   ]
  },
  {
   "cell_type": "markdown",
   "id": "1af6e21a",
   "metadata": {},
   "source": [
    "Таким образом, можно увидеть, что метод LUP-разложения подходит для решения СЛАУ в большем количестве случаев, чем метод LU-разложения. Некоторые СЛАУ, как было показано выше, могут быть решены с помощью LU-разложения при некоторой конкретной очередности уравнений, но после перестановки строк системы матрица коэффициентов может уже не разложиться на нижне- и верхнеквадратные матрицы."
   ]
  }
 ],
 "metadata": {
  "kernelspec": {
   "display_name": "Python 3 (ipykernel)",
   "language": "python",
   "name": "python3"
  },
  "language_info": {
   "codemirror_mode": {
    "name": "ipython",
    "version": 3
   },
   "file_extension": ".py",
   "mimetype": "text/x-python",
   "name": "python",
   "nbconvert_exporter": "python",
   "pygments_lexer": "ipython3",
   "version": "3.9.7"
  }
 },
 "nbformat": 4,
 "nbformat_minor": 5
}
